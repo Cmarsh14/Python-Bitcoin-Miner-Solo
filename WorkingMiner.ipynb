{
 "cells": [
  {
   "cell_type": "code",
   "execution_count": 1,
   "id": "7bb55ed4",
   "metadata": {},
   "outputs": [],
   "source": [
    "from dateutil import parser, tz\n",
    "import pytz\n",
    "from hashlib import sha256\n",
    "import pandas as pd\n",
    "import numpy as np"
   ]
  },
  {
   "cell_type": "code",
   "execution_count": 2,
   "id": "1cbbd0dd",
   "metadata": {},
   "outputs": [],
   "source": [
    "def unix_time(time: str, utc: bool=True):\n",
    "    '''Accepts time as a string and returns unix time.'''\n",
    "    t = parser.parse(time)\n",
    "    if utc:\n",
    "        t = t.replace(tzinfo=tz.gettz('UTC')) # if the time is in UTC, est the timezone\n",
    "\n",
    "    return '{0:08x}'.format(int(t.timestamp()))"
   ]
  },
  {
   "cell_type": "code",
   "execution_count": 3,
   "id": "2b87b2f5",
   "metadata": {},
   "outputs": [
    {
     "name": "stdout",
     "output_type": "stream",
     "text": [
      "495fab29\n"
     ]
    }
   ],
   "source": [
    "#TEST UNIC_TIME FUNCTION\n",
    "genesis_time = '2009-01-03 18:15:05' # time is in UTC\n",
    "#'0x495fab29'\n",
    "timeout = unix_time(genesis_time)\n",
    "print (timeout)"
   ]
  },
  {
   "cell_type": "code",
   "execution_count": 4,
   "id": "f0fdb33f",
   "metadata": {},
   "outputs": [],
   "source": [
    "def little_endian(hexa: str):\n",
    "\n",
    "    '''Returns an integer corresponding to little endian representation'''\n",
    "    \n",
    "    return int.from_bytes(bytearray.fromhex(hexa.replace('0x', '')), byteorder='little')\n"
   ]
  },
  {
   "cell_type": "code",
   "execution_count": 5,
   "id": "c8d9305b",
   "metadata": {},
   "outputs": [
    {
     "data": {
      "text/plain": [
       "'0x29ab5f49'"
      ]
     },
     "execution_count": 5,
     "metadata": {},
     "output_type": "execute_result"
    }
   ],
   "source": [
    "hex(little_endian(unix_time(genesis_time)))"
   ]
  },
  {
   "cell_type": "code",
   "execution_count": 6,
   "id": "f993c154",
   "metadata": {},
   "outputs": [],
   "source": [
    "def block_header_generator(version, perv_block_hash, merkle_root, time, bits, utc):\n",
    "    '''Generates the block header.'''\n",
    "    \n",
    "    version_hex = '{0:08x}'.format(little_endian(version))\n",
    "    perv_hash_hex = '{0:064x}'.format(little_endian(perv_block_hash))\t\t\t\n",
    "    merkle_hex = '{0:064x}'.format(little_endian(merkle_root))\n",
    "    time_hex = '{0:08x}'.format(little_endian(unix_time(time, utc)))\n",
    "    bits_hex = '{0:08x}'.format(little_endian('{0:08x}'.format(bits)))\n",
    "    header = [version_hex, perv_hash_hex, merkle_hex, time_hex, bits_hex]\n",
    "\n",
    "    return ''.join(header)\t"
   ]
  },
  {
   "cell_type": "code",
   "execution_count": 7,
   "id": "273e230a",
   "metadata": {},
   "outputs": [
    {
     "data": {
      "text/plain": [
       "<function print>"
      ]
     },
     "execution_count": 7,
     "metadata": {},
     "output_type": "execute_result"
    }
   ],
   "source": [
    "#TEST BLOCK HEADER\n",
    "b_version = '0x' + '1'.zfill(8) # = '0x00000001'\n",
    "b_merkle = '4a5e1e4baab89f3a32518a88c31bc87f618f76673e2cc77ab2127b7afdeda33b'\n",
    "b_perv_hash = '00'\n",
    "b_time = '2009-01-03 18:15:05'\n",
    "b_bits = 486604799\n",
    "\n",
    "print"
   ]
  },
  {
   "cell_type": "code",
   "execution_count": 8,
   "id": "8afce4ab",
   "metadata": {},
   "outputs": [],
   "source": [
    "correct_result = '0100000000000000000000000000000000000000000000000000000000000000000003\\ba3edfd7a7b12b27ac72c3e67768f617fc81bc3888a51323a9fb8aa4b1e4a29ab5f49ffff001d'\n"
   ]
  },
  {
   "cell_type": "code",
   "execution_count": 9,
   "id": "ca24d32e",
   "metadata": {},
   "outputs": [
    {
     "data": {
      "text/plain": [
       "False"
      ]
     },
     "execution_count": 9,
     "metadata": {},
     "output_type": "execute_result"
    }
   ],
   "source": [
    "correct_result == block_header_generator(b_version, b_perv_hash, b_merkle, b_time, b_bits, utc=True)"
   ]
  },
  {
   "cell_type": "code",
   "execution_count": 10,
   "id": "292568f8",
   "metadata": {},
   "outputs": [],
   "source": [
    "def target_cal(bits: int):\n",
    "\n",
    "    '''Calculates the target value for comparing.'''\n",
    "    \n",
    "    h = '{0:08x}'.format(bits)\n",
    "    return int(h[2:], 16) * (256 ** (int(h[:2], 16)-3))"
   ]
  },
  {
   "cell_type": "code",
   "execution_count": 11,
   "id": "1f59a4dd",
   "metadata": {},
   "outputs": [],
   "source": [
    "def mine(b_version, b_perv_hash, b_merkle, b_time, b_bits, near_value, utc=True):\n",
    "    '''performs the process of mining.'''\n",
    "    \n",
    "    nonce = near_value # for speeding up the process\n",
    "    target = target_cal(b_bits)\n",
    "    b = block_header_generator(b_version, b_perv_hash, b_merkle, b_time, b_bits, utc)\n",
    "    print('Start Mining...')\n",
    "    while True:\n",
    "        nonce_little = '{0:08x}'.format(little_endian('{0:08x}'.format(nonce)))\n",
    "        header = b + nonce_little\n",
    "        first_hash = sha256(bytes.fromhex(header)) # nedss byte format\n",
    "        second_hash = sha256 (first_hash.digest()).hexdigest()\n",
    "        result = int.from_bytes(bytearray.fromhex(second_hash), 'little') # for comparing with the target\n",
    "        if result < target:\n",
    "            print('Block Mined ! ', 'Nonce : ',nonce, sep='\\n')\n",
    "            print('hash : ', '{0:064x}'.format(result), sep='\\n')\n",
    "            break\n",
    "        nonce +=1"
   ]
  },
  {
   "cell_type": "code",
   "execution_count": 12,
   "id": "ef9573c4",
   "metadata": {},
   "outputs": [
    {
     "name": "stdout",
     "output_type": "stream",
     "text": [
      "Start Mining...\n",
      "Block Mined ! \n",
      "Nonce : \n",
      "2083236893\n",
      "hash : \n",
      "000000000019d6689c085ae165831e934ff763ae46a2a6c172b3f1b60a8ce26f\n"
     ]
    }
   ],
   "source": [
    "near_value = 2073236893\n",
    "mine(b_version, b_perv_hash, b_merkle, b_time, b_bits, near_value)"
   ]
  },
  {
   "cell_type": "code",
   "execution_count": null,
   "id": "5e892ea6",
   "metadata": {},
   "outputs": [],
   "source": [
    "def mine_block_num(number):\n",
    "    \n",
    "    '''Given a block number it will mine that block.'''\n",
    "    \n",
    "    b_version = '{0.08x}'.format(df.loc[number, 'version'])\n",
    "    if number == 0:\n",
    "        b_perv_hash = '00'\n",
    "    else:\n",
    "        b_perv_hash = df.loc[number - 1, 'hash']\n",
    "    b_merkel = df.loc[number, 'merkel_root']\n",
    "    b_time = df.loc[number, 'time']\n",
    "    b_bit = df.loc[number, 'bits']\n",
    "    nonce = df.loc[number, 'nonce']\n",
    "    if nonce > 2e6 :\n",
    "        near_value = np.random.rdint(nonce - 2e6, nonce - 1e6, dtype='int64')\n",
    "    else:\n",
    "        near_value = np.random.randint(1, nonce, dtype='int64')\n",
    "    \n",
    "    return mine(b_version, b_perv_hash, b_merkle, b_time, b_bits, near_value)\n"
   ]
  }
 ],
 "metadata": {
  "kernelspec": {
   "display_name": "Python 3 (ipykernel)",
   "language": "python",
   "name": "python3"
  },
  "language_info": {
   "codemirror_mode": {
    "name": "ipython",
    "version": 3
   },
   "file_extension": ".py",
   "mimetype": "text/x-python",
   "name": "python",
   "nbconvert_exporter": "python",
   "pygments_lexer": "ipython3",
   "version": "3.9.12"
  }
 },
 "nbformat": 4,
 "nbformat_minor": 5
}
